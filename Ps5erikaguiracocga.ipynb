{
  "nbformat": 4,
  "nbformat_minor": 0,
  "metadata": {
    "colab": {
      "provenance": [],
      "authorship_tag": "ABX9TyOVtILIi9IuYj0ac0lCLB3H",
      "include_colab_link": true
    },
    "kernelspec": {
      "name": "python3",
      "display_name": "Python 3"
    },
    "language_info": {
      "name": "python"
    }
  },
  "cells": [
    {
      "cell_type": "markdown",
      "metadata": {
        "id": "view-in-github",
        "colab_type": "text"
      },
      "source": [
        "<a href=\"https://colab.research.google.com/github/erikaguiracocha/Capstone-Project/blob/main/Ps5erikaguiracocga.ipynb\" target=\"_parent\"><img src=\"https://colab.research.google.com/assets/colab-badge.svg\" alt=\"Open In Colab\"/></a>"
      ]
    },
    {
      "cell_type": "markdown",
      "source": [
        "**PS 5**\n",
        "\n",
        "1. build on ps4 (see ps4 instructions again): fix it up and beef it up\n",
        "2. may use some of the bonus libs like plotly, html/website hosting; but better have solid story just with mpl than fancy meaningless\n",
        "stuff; again: idea and story matter most and simplicity first\n",
        "3. now it’s the time to take a step back and think hard about your vis: what it all means, what’s the story there, give a lot of\n",
        "thought to interpretations, be critical; and also circle back to initial research questions and hypothesis–found evidence in support\n",
        "or against? strong evidence or weak? and maybe conditional? say yes for female, but no for males, etc\n",
        "4. list problems/limitations: do have a section on limitatations/future res"
      ],
      "metadata": {
        "id": "WU2b-yGHcszP"
      }
    },
    {
      "cell_type": "markdown",
      "source": [
        "**Dataset Overview and Research Focus**\n",
        "\n",
        "This study examines data from 21 counties in New Jersey between 2020 and 2022 to explore how local crime rates influence police budget allocation. By analyzing reported crimes, budgetary figures, and socioeconomic indicators—such as population and unemployment rates—this research aims to uncover patterns in how counties prioritize public safety spending in response to varying crime levels.\n",
        "\n",
        "**Research Story:** Why This Matters The relationship between crime and police funding is a central topic in public policy, especially in times of economic uncertainty and shifting public perceptions of law enforcement. During the years 2020 to 2022, counties across New Jersey faced challenges brought on by the COVID-19 pandemic, including economic disruptions, rising unemployment, and changes in public safety needs.\n",
        "\n",
        "This period presents a unique opportunity to study how counties adjusted their police budgets in response to crime trends and socioeconomic pressures. By investigating this relationship, we can better understand how local governments allocate resources in times of crisis and whether their responses align with actual public safety needs.\n",
        "\n",
        "**Research Question**\n",
        "\n",
        "How do crime rates in New Jersey counties influence police budget allocation?\n",
        "\n",
        "Hypothesis I hypothesize that counties with higher crime rates allocate a larger proportion of their budgets to the police, as they require more resources to address increased demand for law enforcement services.\n",
        "\n",
        "Key Variables Crime Data: Total number of reported crimes per county per year (2020–2022), indicating crime levels.\n",
        "\n",
        "Police Budget: Total annual police department allocation per county.\n",
        "\n",
        "County: Name of the 21 New Jersey counties included in the analysis.\n",
        "\n",
        "Year: The time dimension, capturing data from 2020, 2021, and 2022.\n",
        "\n",
        "Population: Estimated population per county, to provide context for per capita analysis.\n",
        "\n",
        "Unemployment Rate: Annual unemployment rate per county, used to explore potential socioeconomic influences on crime and budget decisions.\n",
        "\n",
        "**Data Sources**\n",
        "\n",
        "Crime Data: New Jersey Department of Law and Public Safety.\n",
        "\n",
        "Police Budget Data: Annual reports from the New Jersey Division of Local Government Services.\n",
        "\n",
        "Socioeconomic Data: Population and unemployment rates from the New Jersey Department of Labor and Workforce Development.\n",
        "\n",
        "Data Justification The integration of crime statistics, police funding data, and socioeconomic indicators enables a comprehensive analysis of how counties respond to public safety needs. Population and unemployment data provide necessary context to interpret variations in crime and budgeting patterns, while the three-year timeframe allows for the identification of temporal trends and policy shifts in response to evolving local conditions.\n",
        "\n",
        "**Map of New Jersey by County**\n",
        "\n",
        "image.png\n",
        "\n",
        "**Limitations and Future Work**\n",
        "\n",
        "While this analysis offers valuable insights into the relationship between crime rates and police budget allocation in New Jersey counties, several limitations should be acknowledged:\n",
        "\n",
        "Data Granularity: The dataset uses annual aggregates, which may obscure short-term fluctuations or seasonal trends in crime and budget adjustments. Monthly or quarterly data could provide a more nuanced view of county-level decision-making.\n",
        "\n",
        "Crime Reporting Bias: Not all crimes are reported consistently across counties. Differences in reporting practices or community trust in law enforcement may skew the data, potentially affecting the accuracy of crime level estimates.\n",
        "\n",
        "Budget Categorization: Police budget figures are treated as a unified category, but they may include varied expenditures (e.g., pensions, infrastructure, community programs) that are not directly tied to active law enforcement operations.\n",
        "\n",
        "Causality vs. Correlation: While the study explores associations between crime rates and budget allocation, it does not establish causality. Counties may increase budgets for reasons unrelated to crime, such as political shifts or changes in federal/state funding.\n",
        "\n",
        "Socioeconomic Complexity: Although unemployment and population are included as control variables, many other socioeconomic factors (e.g., education, poverty, housing stability) may influence both crime and budgeting decisions and are not captured in this analysis.\n",
        "\n",
        "Limited Scope: The focus on only 21 counties within a single state limits generalizability. Future research could expand the scope to include counties from other states for comparative analysis."
      ],
      "metadata": {
        "id": "9J9O4SCvey_k"
      }
    }
  ]
}